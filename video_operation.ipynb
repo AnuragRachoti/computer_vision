{
 "cells": [
  {
   "cell_type": "code",
   "execution_count": 1,
   "metadata": {},
   "outputs": [
    {
     "name": "stdout",
     "output_type": "stream",
     "text": [
      "cap < cv2.VideoCapture 0x10f29fef0>\n",
      "(720, 1280, 3)\n"
     ]
    }
   ],
   "source": [
    "import cv2\n",
    "cap = cv2.VideoCapture('/Users/anuragrachoti/Desktop/experiment.mp4')\n",
    "print('cap', cap)\n",
    "ret, frame = cap.read()\n",
    "print(frame.shape)"
   ]
  },
  {
   "cell_type": "code",
   "execution_count": 2,
   "metadata": {},
   "outputs": [
    {
     "name": "stdout",
     "output_type": "stream",
     "text": [
      "Resized frame shape: (360, 640, 3)\n"
     ]
    }
   ],
   "source": [
    "# Assuming 'frame' is your input image with shape (720, 1280, 3)\n",
    "\n",
    "# New dimensions (e.g., 360x640 for smaller size)\n",
    "new_width = 640\n",
    "new_height = 360\n",
    "\n",
    "# Resizing the frame\n",
    "resized_frame = cv2.resize(frame, (new_width, new_height))\n",
    "\n",
    "# Display the new shape\n",
    "print(\"Resized frame shape:\", resized_frame.shape)\n"
   ]
  },
  {
   "cell_type": "code",
   "execution_count": 3,
   "metadata": {},
   "outputs": [
    {
     "name": "stdout",
     "output_type": "stream",
     "text": [
      "cap < cv2.VideoCapture 0x1138be430>\n"
     ]
    },
    {
     "ename": "error",
     "evalue": "OpenCV(4.10.0) /Users/runner/work/opencv-python/opencv-python/opencv/modules/imgproc/src/color.cpp:196: error: (-215:Assertion failed) !_src.empty() in function 'cvtColor'\n",
     "output_type": "error",
     "traceback": [
      "\u001b[0;31m---------------------------------------------------------------------------\u001b[0m",
      "\u001b[0;31merror\u001b[0m                                     Traceback (most recent call last)",
      "Cell \u001b[0;32mIn[3], line 6\u001b[0m\n\u001b[1;32m      4\u001b[0m \u001b[38;5;28;01mwhile\u001b[39;00m \u001b[38;5;28;01mTrue\u001b[39;00m:\n\u001b[1;32m      5\u001b[0m         ret,frame \u001b[38;5;241m=\u001b[39m cap\u001b[38;5;241m.\u001b[39mread()\n\u001b[0;32m----> 6\u001b[0m         gray \u001b[38;5;241m=\u001b[39m \u001b[43mcv2\u001b[49m\u001b[38;5;241;43m.\u001b[39;49m\u001b[43mcvtColor\u001b[49m\u001b[43m(\u001b[49m\u001b[43mframe\u001b[49m\u001b[43m,\u001b[49m\u001b[43mcv2\u001b[49m\u001b[38;5;241;43m.\u001b[39;49m\u001b[43mCOLOR_BGR2GRAY\u001b[49m\u001b[43m)\u001b[49m\n\u001b[1;32m      7\u001b[0m         cv2\u001b[38;5;241m.\u001b[39mimshow(\u001b[38;5;124m'\u001b[39m\u001b[38;5;124mframe\u001b[39m\u001b[38;5;124m'\u001b[39m,frame)\n\u001b[1;32m      8\u001b[0m         cv2\u001b[38;5;241m.\u001b[39mimshow(\u001b[38;5;124m'\u001b[39m\u001b[38;5;124mgrey\u001b[39m\u001b[38;5;124m'\u001b[39m, gray)\n",
      "\u001b[0;31merror\u001b[0m: OpenCV(4.10.0) /Users/runner/work/opencv-python/opencv-python/opencv/modules/imgproc/src/color.cpp:196: error: (-215:Assertion failed) !_src.empty() in function 'cvtColor'\n"
     ]
    }
   ],
   "source": [
    "# import cv2\n",
    "# cap = cv2.VideoCapture('/Users/anuragrachoti/Desktop/experiment.mp4')\n",
    "# print('cap', cap)\n",
    "# while True:\n",
    "#         ret,frame = cap.read()\n",
    "#         gray = cv2.cvtColor(frame,cv2.COLOR_BGR2GRAY)\n",
    "#         cv2.imshow('frame',frame)\n",
    "#         cv2.imshow('grey', gray)\n",
    "#         k = cv2.waitKey(25)\n",
    "#         if k == ord('q') & 0xFF:\n",
    "#                 break\n",
    "# cap.release()\n",
    "# cv2.destroyAllWindows()\n",
    "\n",
    "\n"
   ]
  },
  {
   "cell_type": "code",
   "execution_count": 10,
   "metadata": {},
   "outputs": [
    {
     "name": "stdout",
     "output_type": "stream",
     "text": [
      "< cv2.VideoCapture 0x12dba4670>\n"
     ]
    }
   ],
   "source": [
    "cap = cv2.VideoCapture(0)\n",
    "\n",
    "#divx, xvid, mjpg, x264, wmv1, wmv2\n",
    "fourcc = cv2.VideoWriter_fourcc(*'XVID') #'XVID\n",
    "#it contains 4 parameters, name, codec, fps, resolution\n",
    "\n",
    "output = cv2.VideoWriter('/Users/anuragrachoti/Desktop/output.avi', fourcc, 20.0, (640,480),0)\n",
    "print(cap)\n",
    "while cap.isOpened():\n",
    "    ret ,frame = cap.read()\n",
    "    if ret == True:\n",
    "        gray = cv2.cvtColor(frame, cv2.COLOR_BGR2GRAY)\n",
    "        frame = cv2.flip(frame, 0)\n",
    "        cv2.imshow('frame',frame)\n",
    "        cv2.imshow('gray',gray)\n",
    "        output.write(gray)\n",
    "        if cv2.waitKey(1) & 0xFF == ord('q'):\n",
    "            break\n",
    "\n",
    "cap.release()\n",
    "output.release()\n",
    "cv2.destroyAllWindows()"
   ]
  },
  {
   "cell_type": "code",
   "execution_count": null,
   "metadata": {},
   "outputs": [],
   "source": []
  }
 ],
 "metadata": {
  "kernelspec": {
   "display_name": "venv",
   "language": "python",
   "name": "python3"
  },
  "language_info": {
   "codemirror_mode": {
    "name": "ipython",
    "version": 3
   },
   "file_extension": ".py",
   "mimetype": "text/x-python",
   "name": "python",
   "nbconvert_exporter": "python",
   "pygments_lexer": "ipython3",
   "version": "3.12.0"
  }
 },
 "nbformat": 4,
 "nbformat_minor": 2
}
