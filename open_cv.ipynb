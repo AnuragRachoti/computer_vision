{
 "cells": [
  {
   "cell_type": "code",
   "execution_count": 1,
   "metadata": {},
   "outputs": [],
   "source": [
    "#reading and writing the images\n",
    "\n",
    "import cv2\n",
    "import os\n",
    "import numpy as np\n",
    "\n",
    "img_path = os.path.join(os.getcwd(),'quantum.png')\n",
    "\n",
    "img = cv2.imread(img_path)"
   ]
  },
  {
   "cell_type": "code",
   "execution_count": null,
   "metadata": {},
   "outputs": [],
   "source": [
    "#visualize the image\n",
    "\n",
    "cv2.imshow('image',img)\n",
    "cv2.waitKey(5000)"
   ]
  },
  {
   "cell_type": "code",
   "execution_count": 3,
   "metadata": {},
   "outputs": [
    {
     "ename": "",
     "evalue": "",
     "output_type": "error",
     "traceback": [
      "\u001b[1;31mThe Kernel crashed while executing code in the current cell or a previous cell. \n",
      "\u001b[1;31mPlease review the code in the cell(s) to identify a possible cause of the failure. \n",
      "\u001b[1;31mClick <a href='https://aka.ms/vscodeJupyterKernelCrash'>here</a> for more info. \n",
      "\u001b[1;31mView Jupyter <a href='command:jupyter.viewOutput'>log</a> for further details."
     ]
    }
   ],
   "source": [
    "#READ VIDEO \n",
    "\n",
    "video_path = os.path.join(os.getcwd(),'EDITH.mp4')\n",
    "\n",
    "cap = cv2.VideoCapture(video_path)\n",
    "\n",
    "#visulaize the video.\n",
    "\n",
    "ret = True\n",
    "while ret:\n",
    "    ret,frame = cap.read()\n",
    "\n",
    "    if ret:\n",
    "        cv2.imshow('frame',frame)\n",
    "        cv2.waitKey(40)\n",
    "\n",
    "\n",
    "cap.release()\n",
    "cv2.destroyAllWindows()"
   ]
  },
  {
   "cell_type": "code",
   "execution_count": null,
   "metadata": {},
   "outputs": [],
   "source": [
    "## Reading webcam.\n",
    "\n",
    "webcam = cv2.VideoCapture(0)\n",
    "\n",
    "#visualize webcam\n",
    "\n",
    "while True:\n",
    "    ret, frame = webcam.read()\n",
    "\n",
    "    if ret:\n",
    "        cv2.imshow('frame',frame)\n",
    "        cv2.waitKey(40)\n",
    "\n",
    "    if cv2.waitKey(1) & 0xFF == ord('q'):\n",
    "        break\n",
    "\n",
    "webcam.release()\n",
    "cv2.destroyAllWindows()  \n"
   ]
  },
  {
   "cell_type": "code",
   "execution_count": 2,
   "metadata": {},
   "outputs": [
    {
     "name": "stdout",
     "output_type": "stream",
     "text": [
      "(375, 499, 3)\n"
     ]
    },
    {
     "data": {
      "text/plain": [
       "113"
      ]
     },
     "execution_count": 2,
     "metadata": {},
     "output_type": "execute_result"
    }
   ],
   "source": [
    "img2 = cv2.imread(os.path.join(os.getcwd(),'dog.1038.jpg'))\n",
    "print(img2.shape)\n",
    "cropped_img = img[320:400, 320:400]\n",
    "cv2.imshow('image', img2)\n",
    "cv2.imshow('cropped_img',cropped_img)\n",
    "#print(img2.shape)\n",
    "cv2.waitKey(0)"
   ]
  },
  {
   "cell_type": "code",
   "execution_count": 3,
   "metadata": {},
   "outputs": [
    {
     "data": {
      "text/plain": [
       "-1"
      ]
     },
     "execution_count": 3,
     "metadata": {},
     "output_type": "execute_result"
    },
    {
     "ename": "",
     "evalue": "",
     "output_type": "error",
     "traceback": [
      "\u001b[1;31mThe Kernel crashed while executing code in the current cell or a previous cell. \n",
      "\u001b[1;31mPlease review the code in the cell(s) to identify a possible cause of the failure. \n",
      "\u001b[1;31mClick <a href='https://aka.ms/vscodeJupyterKernelCrash'>here</a> for more info. \n",
      "\u001b[1;31mView Jupyter <a href='command:jupyter.viewOutput'>log</a> for further details."
     ]
    }
   ],
   "source": [
    "#color spaces.\n",
    "import os \n",
    "img_zoro = cv2.imread(os.path.join(os.getcwd(),'zoro_hd.jpg'))\n",
    "\n",
    "img_zoro_grey = cv2.cvtColor(img_zoro,cv2.COLOR_BGR2GRAY)\n",
    "img_zoro_rbg = cv2.cvtColor(img_zoro,cv2.COLOR_BGR2RGB)\n",
    "img_zoro_new = cv2.cvtColor(img_zoro,cv2.COLOR_BGR2HSV)\n",
    "cv2.imshow('roronoa',img_zoro)\n",
    "cv2.imshow('img_zoro_grey',img_zoro_grey)\n",
    "cv2.imshow('img_zoro_rgb',img_zoro_rbg)\n",
    "cv2.imshow('img_zoro_new',img_zoro_new)\n",
    "cv2.waitKey(50)\n",
    "\n",
    "\n",
    "\n"
   ]
  },
  {
   "cell_type": "code",
   "execution_count": 15,
   "metadata": {},
   "outputs": [
    {
     "data": {
      "text/plain": [
       "-1"
      ]
     },
     "execution_count": 15,
     "metadata": {},
     "output_type": "execute_result"
    },
    {
     "ename": "",
     "evalue": "",
     "output_type": "error",
     "traceback": [
      "\u001b[1;31mThe Kernel crashed while executing code in the current cell or a previous cell. \n",
      "\u001b[1;31mPlease review the code in the cell(s) to identify a possible cause of the failure. \n",
      "\u001b[1;31mClick <a href='https://aka.ms/vscodeJupyterKernelCrash'>here</a> for more info. \n",
      "\u001b[1;31mView Jupyter <a href='command:jupyter.viewOutput'>log</a> for further details."
     ]
    }
   ],
   "source": [
    "#Blurring the image.\n",
    "my_photo = cv2.imread(os.path.join(os.getcwd(),'mypassport.jpg'))\n",
    "\n",
    "#classical blurr\n",
    "blurred_image = cv2.blur(my_photo,(50,50))\n",
    "#guassian blurr\n",
    "blurred_image_guassian = cv2.GaussianBlur(my_photo,(51,51),7)\n",
    "#median blurr\n",
    "blurred_image_median = cv2.medianBlur(my_photo,11)\n",
    "cv2.imshow('my_photo',my_photo)\n",
    "cv2.imshow('blurred_image',blurred_image)\n",
    "cv2.imshow('blurred_image_guassian',blurred_image_guassian)\n",
    "cv2.imshow('blurred_image_median',blurred_image_median)\n",
    "cv2.waitKey(50)"
   ]
  },
  {
   "cell_type": "code",
   "execution_count": 2,
   "metadata": {},
   "outputs": [
    {
     "data": {
      "text/plain": [
       "-1"
      ]
     },
     "execution_count": 2,
     "metadata": {},
     "output_type": "execute_result"
    }
   ],
   "source": [
    "#Threshold.\n",
    "\n",
    "zoro_photo = cv2.imread(os.path.join(os.getcwd(),'zoro_hd.jpg'))\n",
    "gs_image = cv2.cvtColor(zoro_photo,cv2.COLOR_BGR2GRAY)\n",
    "\n",
    "ret, thresh = cv2.threshold(gs_image,127, 255, cv2.THRESH_BINARY)\n",
    "ret, thresh = cv2.threshold(thresh,127, 255, cv2.THRESH_BINARY)\n",
    "cv2.imshow('zoro_greyscale',gs_image)\n",
    "cv2.imshow('zoro_photo_thresh',thresh)\n",
    "\n",
    "cv2.waitKey(50)"
   ]
  },
  {
   "cell_type": "code",
   "execution_count": 2,
   "metadata": {},
   "outputs": [
    {
     "data": {
      "text/plain": [
       "-1"
      ]
     },
     "execution_count": 2,
     "metadata": {},
     "output_type": "execute_result"
    }
   ],
   "source": [
    "#edge detection.\n",
    "\n",
    "normal_image = cv2.imread(os.path.join(os.getcwd(),'edge.JPG'))\n",
    "\n",
    "canny_edge_img = cv2.Canny(normal_image, 100, 75)\n",
    "\n",
    "#Dilate method \n",
    "canny_edge_img_d = cv2.dilate(canny_edge_img, np.ones((5,5),dtype = np.uint8))\n",
    "\n",
    "#cv2.erode()\n",
    "canny_edge_img_e = cv2.erode(canny_edge_img, np.ones((3,3),dtype = np.uint8))\n",
    "cv2.imshow('original_image',normal_image)\n",
    "cv2.imshow('edged_image',canny_edge_img)\n",
    "cv2.imshow('dilated_image', canny_edge_img_d)\n",
    "cv2.imshow('eroded_image', canny_edge_img_e)\n",
    "cv2.waitKey(50)\n"
   ]
  },
  {
   "cell_type": "code",
   "execution_count": 20,
   "metadata": {},
   "outputs": [
    {
     "data": {
      "text/plain": [
       "-1"
      ]
     },
     "execution_count": 20,
     "metadata": {},
     "output_type": "execute_result"
    },
    {
     "ename": "",
     "evalue": "",
     "output_type": "error",
     "traceback": [
      "\u001b[1;31mThe Kernel crashed while executing code in the current cell or a previous cell. \n",
      "\u001b[1;31mPlease review the code in the cell(s) to identify a possible cause of the failure. \n",
      "\u001b[1;31mClick <a href='https://aka.ms/vscodeJupyterKernelCrash'>here</a> for more info. \n",
      "\u001b[1;31mView Jupyter <a href='command:jupyter.viewOutput'>log</a> for further details."
     ]
    }
   ],
   "source": [
    "#Image drawing.\n",
    "\n",
    "test_subject = cv2.imread(os.path.join(os.getcwd(),'download.jpeg'))\n",
    "\n",
    "#line\n",
    "cv2.line(test_subject, (50,75), (100, 125), (0, 255, 0), 2)\n",
    "\n",
    "#rectangle\n",
    "cv2.rectangle(test_subject, (50,75), (100,125), (0,0,255), 2)\n",
    "\n",
    "#circle\n",
    "cv2.circle(test_subject, (100,100), 50, (250,0,0), 2)\n",
    "\n",
    "#text\n",
    "\n",
    "cv2.putText(test_subject, 'Kannaaaa', (25,50), cv2.FONT_HERSHEY_SIMPLEX, 1, (255,0,255), 2)\n",
    "\n",
    "cv2.imshow('line', test_subject)\n",
    "cv2.waitKey(50)"
   ]
  },
  {
   "cell_type": "code",
   "execution_count": null,
   "metadata": {},
   "outputs": [],
   "source": [
    "#Contours"
   ]
  }
 ],
 "metadata": {
  "kernelspec": {
   "display_name": "venv",
   "language": "python",
   "name": "python3"
  },
  "language_info": {
   "codemirror_mode": {
    "name": "ipython",
    "version": 3
   },
   "file_extension": ".py",
   "mimetype": "text/x-python",
   "name": "python",
   "nbconvert_exporter": "python",
   "pygments_lexer": "ipython3",
   "version": "3.12.0"
  }
 },
 "nbformat": 4,
 "nbformat_minor": 2
}
