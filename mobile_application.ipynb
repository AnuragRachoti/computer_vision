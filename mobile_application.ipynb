{
 "cells": [
  {
   "cell_type": "code",
   "execution_count": 2,
   "metadata": {},
   "outputs": [],
   "source": [
    "import cv2\n",
    "\n",
    "camera  = 'http://192.168.178.37:8080/video'\n",
    "\n",
    "#connect yout laptop and android device with the same network like wifi.\n",
    "cap = cv2.VideoCapture(0, cv2.CAP_DSHOW)\n",
    "cap.open(camera)\n",
    "print('check==', cap.isOpened())\n",
    "#divx, xvid, mjpg, x264, wmv1, wmv2\n",
    "fourcc = cv2.VideoWriter_fourcc(*'mp4v') #'XVID\n",
    "#it contains 4 parameters, name, codec, fps, resolution\n",
    "\n",
    "output = cv2.VideoWriter('/Users/anuragrachoti/Desktop/EDITH.mp4', fourcc, 20.0, (640,480))\n",
    "print(cap)\n",
    "while cap.isOpened():\n",
    "    ret ,frame = cap.read()\n",
    "    if ret == True:\n",
    "        frame = cv2.resize(frame,(700,700))\n",
    "        gray = cv2.cvtColor(frame, cv2.COLOR_BGR2GRAY)\n",
    "        cv2.imshow('Color-frame',frame)\n",
    "        output.write(frame)\n",
    "        if cv2.waitKey(1) & 0xFF == ord('q'):\n",
    "            break\n",
    "\n",
    "cap.release()\n",
    "output.release()\n",
    "cv2.destroyAllWindows()\n",
    "\n",
    "\n",
    "\n",
    "\n"
   ]
  },
  {
   "cell_type": "code",
   "execution_count": null,
   "metadata": {},
   "outputs": [],
   "source": [
    "import cv2\n",
    "import pafy\n",
    "\n",
    "url = 'https://www.youtube.com/watch?v=3_T4RGMvtKI&list=PL3MCKCM5GS4UGRk9wUD5HaNKTwm71fNZx&index=4'\n",
    "#camera  = 'http://192.168.178.37:8080/video'\n",
    "\n",
    "data = pafy.new(url)\n",
    "data = data.getbest(preftype = 'mp4')\n",
    "#connect yout laptop and android device with the same network like wifi.\n",
    "\n",
    "cap = cv2.VideoCapture(0, cv2.CAP_DSHOW)\n",
    "cap.open(data.url)\n",
    "print('check==', cap.isOpened())\n",
    "# #divx, xvid, mjpg, x264, wmv1, wmv2\n",
    "# fourcc = cv2.VideoWriter_fourcc(*'mp4v') #'XVID\n",
    "# #it contains 4 parameters, name, codec, fps, resolution\n",
    "# output = cv2.VideoWriter('/Users/anuragrachoti/Desktop/EDITH.mp4', fourcc, 20.0, (640,480))\n",
    "print(cap)\n",
    "while cap.isOpened():\n",
    "    ret ,frame = cap.read()\n",
    "    if ret == True:\n",
    "        frame = cv2.resize(frame, (700,700))\n",
    "        gray = cv2.cvtColor(frame, cv2.COLOR_BGR2GRAY)\n",
    "        cv2.imshow('Color-frame',frame)\n",
    "        #output.write(frame)\n",
    "        if cv2.waitKey(1) & 0xFF == ord('q'):\n",
    "            break\n",
    "\n",
    "cap.release()\n",
    "cv2.destroyAllWindows()"
   ]
  },
  {
   "cell_type": "code",
   "execution_count": null,
   "metadata": {},
   "outputs": [],
   "source": []
  }
 ],
 "metadata": {
  "kernelspec": {
   "display_name": "venv",
   "language": "python",
   "name": "python3"
  },
  "language_info": {
   "codemirror_mode": {
    "name": "ipython",
    "version": 3
   },
   "file_extension": ".py",
   "mimetype": "text/x-python",
   "name": "python",
   "nbconvert_exporter": "python",
   "pygments_lexer": "ipython3",
   "version": "3.12.0"
  }
 },
 "nbformat": 4,
 "nbformat_minor": 2
}
